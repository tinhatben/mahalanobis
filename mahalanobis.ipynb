{
 "cells": [
  {
   "cell_type": "markdown",
   "metadata": {},
   "source": [
    "![tinhatben](tinhatben_svg.png)"
   ]
  },
  {
   "cell_type": "markdown",
   "metadata": {},
   "source": [
    "# Mahalanobis Distance\n",
    "<a rel=\"license\" href=\"http://creativecommons.org/licenses/by/4.0/\"><img alt=\"Creative Commons License\" style=\"border-width:0\" src=\"https://i.creativecommons.org/l/by/4.0/88x31.png\" /></a><br />This work is licensed under a <a rel=\"license\" href=\"http://creativecommons.org/licenses/by/4.0/\">Creative Commons Attribution 4.0 International License</a>."
   ]
  },
  {
   "cell_type": "code",
   "execution_count": 1,
   "metadata": {
    "collapsed": true
   },
   "outputs": [],
   "source": [
    "# Imports\n",
    "from tinhatbenbranding import TINHATBEN_GRAY, TINHATBEN_YELLOW, add_tinhatbendotcom\n",
    "from matplotlib import pyplot as plt\n",
    "import numpy as np\n",
    "\n",
    "%matplotlib inline\n",
    "plt.rcParams['figure.figsize'] = 10, 10"
   ]
  },
  {
   "cell_type": "markdown",
   "metadata": {},
   "source": [
    "## Define a data set"
   ]
  },
  {
   "cell_type": "code",
   "execution_count": 2,
   "metadata": {
    "collapsed": false
   },
   "outputs": [
    {
     "data": {
      "image/png": "[encoded data removed]",
      "text/plain": [
       "<matplotlib.figure.Figure at 0x7f0d74b6dc10>"
      ]
     },
     "metadata": {},
     "output_type": "display_data"
    }
   ],
   "source": [
    "D = np.load(\"D.npy\")\n",
    "n = D.shape[0]\n",
    "fig = plt.figure()\n",
    "ax = fig.add_subplot(111)\n",
    "\n",
    "# We want to find the Mahalanobis Distance for point p\n",
    "p1 = np.array([17.5, 27.3])\n",
    "p2 = np.mean(D, axis=0)\n",
    "p3 = np.array([24, 20])\n",
    "d_fig = ax.scatter(D[:,0], D[:,1], c=TINHATBEN_GRAY, edgecolor=TINHATBEN_GRAY)\n",
    "p_fig = ax.scatter(x=[p1[0], p2[0], p3[0]], y=[p1[1], p2[1], p3[1]], \n",
    "                   c=TINHATBEN_YELLOW, edgecolor=TINHATBEN_YELLOW, s=50)\n",
    "ax.set_title(\"Data Cluster\")\n",
    "ax.set_xlabel(\"X\")\n",
    "ax.set_ylabel(\"Y\")\n",
    "ax.legend([d_fig, p_fig], [\"Distribution (d)\", \"Test Points (p)\"])\n",
    "add_tinhatbendotcom(ax, (0,0))"
   ]
  },
  {
   "cell_type": "markdown",
   "metadata": {},
   "source": [
    "## Characterise the data set\n",
    "Determine the mean and covariance of the data.  For more information on calculating these statistics refer to [this blog post](https://tinhatben.com/2016/04/13/principal-component-analysis/)"
   ]
  },
  {
   "cell_type": "code",
   "execution_count": 3,
   "metadata": {
    "collapsed": false
   },
   "outputs": [
    {
     "name": "stdout",
     "output_type": "stream",
     "text": [
      "mu = [ 21.28588312  22.9497843 ]\n",
      "S = [[ 4.08731989  0.15236826]\n",
      " [ 0.15236826  1.08333636]]\n"
     ]
    }
   ],
   "source": [
    "mu = np.mean(D, axis=0) # The mean of the data\n",
    "D_minus_mu = (D - mu).T # Take the transpose because we want a the cov for x, y as a 2 x 2 matrix\n",
    "# If we didnt't take the transpose we would get a 100 x 100 covariance matrix\n",
    "# S = [[cov(x, x), cov(x, y)], [cov(x, y), cov(y, y)]]\n",
    "S = np.dot(D_minus_mu, D_minus_mu.T) / n # Covariance matrix\n",
    "print(\"mu = %s\" % mu.__str__())\n",
    "print(\"S = %s\" % S.__str__())"
   ]
  },
  {
   "cell_type": "markdown",
   "metadata": {},
   "source": [
    "## Calculate the Mahalanobis Distance.\n",
    "The Mahalanobis distance is the distance of a point $p$ from a distribution $D$.  It is an extension of the concept that the standard deviation is the average distance of a data point within the distribution from the mean, considering for multidimensional data.  I. To calculate the Mahalanobis Distance we use the following:\n",
    "\n",
    "$$ d_m = \\sqrt{(p - \\mu_D)S^{-1}(p - \\mu_D)^T} $$\n",
    "\n",
    "Where:\n",
    "\n",
    "* $d_m$ is the Mahalanobis distance\n",
    "* $p$ is the point to find the distance for\n",
    "* $\\mu_d$ is the mean of the distribution D\n",
    "* $S^{-1}$ is the inverse of the covariance matrix\n",
    "\n",
    "As you can see the Mahalanobis Distance is zero if the test point is at the mean of the distribution\n"
   ]
  },
  {
   "cell_type": "code",
   "execution_count": 4,
   "metadata": {
    "collapsed": false
   },
   "outputs": [
    {
     "name": "stdout",
     "output_type": "stream",
     "text": [
      "##################################################\n",
      "Point p1\n",
      "p1 = [ 17.5  27.3]\n",
      "D_mu = [ 21.28588312  22.9497843 ]\n",
      "S = [[ 4.08731989  0.15236826]\n",
      " [ 0.15236826  1.08333636]]\n",
      "\n",
      "Mahalanobis distance = 5.76691\n",
      "##################################################\n",
      "Point p2\n",
      "p2 = [ 21.28588312  22.9497843 ]\n",
      "D_mu = [ 21.28588312  22.9497843 ]\n",
      "S = [[ 4.08731989  0.15236826]\n",
      " [ 0.15236826  1.08333636]]\n",
      "\n",
      "Mahalanobis distance = 0.00000\n",
      "##################################################\n",
      "Point p3\n",
      "p1 = [24 20]\n",
      "D_mu = [ 21.28588312  22.9497843 ]\n",
      "S = [[ 4.08731989  0.15236826]\n",
      " [ 0.15236826  1.08333636]]\n",
      "\n",
      "Mahalanobis distance = 4.00845\n"
     ]
    }
   ],
   "source": [
    "S_inv = np.linalg.inv(S)\n",
    "p1_minus_mu = p1 - mu\n",
    "p1_minus_mu_S = np.dot(p1_minus_mu, S_inv)\n",
    "d_m = np.sqrt(np.dot(p1_minus_mu, p1_minus_mu.T))\n",
    "print(\"#\" * 50)\n",
    "print(\"Point p1\")\n",
    "print(\"p1 = %s\" % p1.__str__())\n",
    "print(\"D_mu = %s\" % mu.__str__())\n",
    "print(\"S = %s\\n\" % S.__str__())\n",
    "print(\"Mahalanobis distance = %0.5f\" % d_m)\n",
    "print(\"#\" * 50)\n",
    "print(\"Point p2\")\n",
    "###################################################\n",
    "p2_minus_mu = p2 - mu\n",
    "p2_minus_mu_S = np.dot(p2_minus_mu, S_inv)\n",
    "d_m = np.sqrt(np.dot(p2_minus_mu, p2_minus_mu.T))\n",
    "print(\"p2 = %s\" % p2.__str__())\n",
    "print(\"D_mu = %s\" % mu.__str__())\n",
    "print(\"S = %s\\n\" % S.__str__())\n",
    "print(\"Mahalanobis distance = %0.5f\" % d_m)\n",
    "###################################################\n",
    "p3_minus_mu = p3 - mu\n",
    "p3_minus_mu_S = np.dot(p3_minus_mu, S_inv)\n",
    "d_m = np.sqrt(np.dot(p3_minus_mu, p3_minus_mu.T))\n",
    "print(\"#\" * 50)\n",
    "print(\"Point p3\")\n",
    "print(\"p1 = %s\" % p3.__str__())\n",
    "print(\"D_mu = %s\" % mu.__str__())\n",
    "print(\"S = %s\\n\" % S.__str__())\n",
    "print(\"Mahalanobis distance = %0.5f\" % d_m)"
   ]
  }
 ],
 "metadata": {
  "kernelspec": {
   "display_name": "Python 2",
   "language": "python",
   "name": "python2"
  },
  "language_info": {
   "codemirror_mode": {
    "name": "ipython",
    "version": 2
   },
   "file_extension": ".py",
   "mimetype": "text/x-python",
   "name": "python",
   "nbconvert_exporter": "python",
   "pygments_lexer": "ipython2",
   "version": "2.7.6"
  }
 },
 "nbformat": 4,
 "nbformat_minor": 0
}
